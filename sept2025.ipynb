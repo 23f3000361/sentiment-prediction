{
 "cells": [
  {
   "cell_type": "code",
   "execution_count": 1,
   "id": "1a0d7c62",
   "metadata": {
    "_cell_guid": "b1076dfc-b9ad-4769-8c92-a6c4dae69d19",
    "_uuid": "8f2839f25d086af736a60e9eeb907d3b93b6e0e5",
    "execution": {
     "iopub.execute_input": "2025-10-29T04:50:00.733236Z",
     "iopub.status.busy": "2025-10-29T04:50:00.732915Z",
     "iopub.status.idle": "2025-10-29T04:50:02.984415Z",
     "shell.execute_reply": "2025-10-29T04:50:02.983028Z"
    },
    "papermill": {
     "duration": 2.258377,
     "end_time": "2025-10-29T04:50:02.986510",
     "exception": false,
     "start_time": "2025-10-29T04:50:00.728133",
     "status": "completed"
    },
    "tags": []
   },
   "outputs": [
    {
     "name": "stdout",
     "output_type": "stream",
     "text": [
      "/kaggle/input/2025-sep-dl-gen-ai-project/sample_submission.csv\n",
      "/kaggle/input/2025-sep-dl-gen-ai-project/train.csv\n",
      "/kaggle/input/2025-sep-dl-gen-ai-project/test.csv\n"
     ]
    }
   ],
   "source": [
    "# This Python 3 environment comes with many helpful analytics libraries installed\n",
    "# It is defined by the kaggle/python Docker image: https://github.com/kaggle/docker-python\n",
    "# For example, here's several helpful packages to load\n",
    "\n",
    "import numpy as np # linear algebra\n",
    "import pandas as pd # data processing, CSV file I/O (e.g. pd.read_csv)\n",
    "\n",
    "# Input data files are available in the read-only \"../input/\" directory\n",
    "# For example, running this (by clicking run or pressing Shift+Enter) will list all files under the input directory\n",
    "\n",
    "import os\n",
    "for dirname, _, filenames in os.walk('/kaggle/input'):\n",
    "    for filename in filenames:\n",
    "        print(os.path.join(dirname, filename))\n",
    "\n",
    "# You can write up to 20GB to the current directory (/kaggle/working/) that gets preserved as output when you create a version using \"Save & Run All\" \n",
    "# You can also write temporary files to /kaggle/temp/, but they won't be saved outside of the current session"
   ]
  },
  {
   "cell_type": "code",
   "execution_count": 2,
   "id": "275c5f62",
   "metadata": {
    "execution": {
     "iopub.execute_input": "2025-10-29T04:50:02.993457Z",
     "iopub.status.busy": "2025-10-29T04:50:02.993014Z",
     "iopub.status.idle": "2025-10-29T04:50:02.997755Z",
     "shell.execute_reply": "2025-10-29T04:50:02.996843Z"
    },
    "papermill": {
     "duration": 0.010265,
     "end_time": "2025-10-29T04:50:02.999556",
     "exception": false,
     "start_time": "2025-10-29T04:50:02.989291",
     "status": "completed"
    },
    "tags": []
   },
   "outputs": [],
   "source": [
    "import pandas as pd\n",
    "import numpy as np"
   ]
  },
  {
   "cell_type": "code",
   "execution_count": 3,
   "id": "34d62e02",
   "metadata": {
    "execution": {
     "iopub.execute_input": "2025-10-29T04:50:03.005784Z",
     "iopub.status.busy": "2025-10-29T04:50:03.005443Z",
     "iopub.status.idle": "2025-10-29T04:50:03.085567Z",
     "shell.execute_reply": "2025-10-29T04:50:03.084419Z"
    },
    "papermill": {
     "duration": 0.085559,
     "end_time": "2025-10-29T04:50:03.087715",
     "exception": false,
     "start_time": "2025-10-29T04:50:03.002156",
     "status": "completed"
    },
    "tags": []
   },
   "outputs": [
    {
     "data": {
      "text/html": [
       "<div>\n",
       "<style scoped>\n",
       "    .dataframe tbody tr th:only-of-type {\n",
       "        vertical-align: middle;\n",
       "    }\n",
       "\n",
       "    .dataframe tbody tr th {\n",
       "        vertical-align: top;\n",
       "    }\n",
       "\n",
       "    .dataframe thead th {\n",
       "        text-align: right;\n",
       "    }\n",
       "</style>\n",
       "<table border=\"1\" class=\"dataframe\">\n",
       "  <thead>\n",
       "    <tr style=\"text-align: right;\">\n",
       "      <th></th>\n",
       "      <th>id</th>\n",
       "      <th>text</th>\n",
       "      <th>anger</th>\n",
       "      <th>fear</th>\n",
       "      <th>joy</th>\n",
       "      <th>sadness</th>\n",
       "      <th>surprise</th>\n",
       "      <th>emotions</th>\n",
       "    </tr>\n",
       "  </thead>\n",
       "  <tbody>\n",
       "    <tr>\n",
       "      <th>0</th>\n",
       "      <td>0</td>\n",
       "      <td>the dentist that did the work apparently did a...</td>\n",
       "      <td>1</td>\n",
       "      <td>0</td>\n",
       "      <td>0</td>\n",
       "      <td>1</td>\n",
       "      <td>0</td>\n",
       "      <td>['anger' 'sadness']</td>\n",
       "    </tr>\n",
       "    <tr>\n",
       "      <th>1</th>\n",
       "      <td>1</td>\n",
       "      <td>i'm gonna absolutely ~~suck~~ be terrible duri...</td>\n",
       "      <td>0</td>\n",
       "      <td>1</td>\n",
       "      <td>0</td>\n",
       "      <td>1</td>\n",
       "      <td>0</td>\n",
       "      <td>['fear' 'sadness']</td>\n",
       "    </tr>\n",
       "    <tr>\n",
       "      <th>2</th>\n",
       "      <td>2</td>\n",
       "      <td>bridge: so leave me drowning calling houston, ...</td>\n",
       "      <td>0</td>\n",
       "      <td>1</td>\n",
       "      <td>0</td>\n",
       "      <td>1</td>\n",
       "      <td>0</td>\n",
       "      <td>['fear' 'sadness']</td>\n",
       "    </tr>\n",
       "    <tr>\n",
       "      <th>3</th>\n",
       "      <td>3</td>\n",
       "      <td>after that mess i went to see my now ex-girlfr...</td>\n",
       "      <td>1</td>\n",
       "      <td>1</td>\n",
       "      <td>0</td>\n",
       "      <td>1</td>\n",
       "      <td>0</td>\n",
       "      <td>['anger' 'fear' 'sadness']</td>\n",
       "    </tr>\n",
       "    <tr>\n",
       "      <th>4</th>\n",
       "      <td>4</td>\n",
       "      <td>as he stumbled i ran off, afraid it might some...</td>\n",
       "      <td>0</td>\n",
       "      <td>1</td>\n",
       "      <td>0</td>\n",
       "      <td>0</td>\n",
       "      <td>0</td>\n",
       "      <td>['fear']</td>\n",
       "    </tr>\n",
       "    <tr>\n",
       "      <th>...</th>\n",
       "      <td>...</td>\n",
       "      <td>...</td>\n",
       "      <td>...</td>\n",
       "      <td>...</td>\n",
       "      <td>...</td>\n",
       "      <td>...</td>\n",
       "      <td>...</td>\n",
       "      <td>...</td>\n",
       "    </tr>\n",
       "    <tr>\n",
       "      <th>6822</th>\n",
       "      <td>6822</td>\n",
       "      <td>there is not a cloud in the sky and the sun is...</td>\n",
       "      <td>0</td>\n",
       "      <td>0</td>\n",
       "      <td>1</td>\n",
       "      <td>0</td>\n",
       "      <td>0</td>\n",
       "      <td>['joy']</td>\n",
       "    </tr>\n",
       "    <tr>\n",
       "      <th>6823</th>\n",
       "      <td>6823</td>\n",
       "      <td>&amp;gt; the grave stomper</td>\n",
       "      <td>0</td>\n",
       "      <td>0</td>\n",
       "      <td>0</td>\n",
       "      <td>0</td>\n",
       "      <td>1</td>\n",
       "      <td>['surprise']</td>\n",
       "    </tr>\n",
       "    <tr>\n",
       "      <th>6824</th>\n",
       "      <td>6824</td>\n",
       "      <td>my ear was still freaking stuck.</td>\n",
       "      <td>1</td>\n",
       "      <td>1</td>\n",
       "      <td>0</td>\n",
       "      <td>0</td>\n",
       "      <td>0</td>\n",
       "      <td>['anger' 'fear']</td>\n",
       "    </tr>\n",
       "    <tr>\n",
       "      <th>6825</th>\n",
       "      <td>6825</td>\n",
       "      <td>i felt like there was an electric current flow...</td>\n",
       "      <td>0</td>\n",
       "      <td>1</td>\n",
       "      <td>0</td>\n",
       "      <td>1</td>\n",
       "      <td>0</td>\n",
       "      <td>['fear' 'sadness']</td>\n",
       "    </tr>\n",
       "    <tr>\n",
       "      <th>6826</th>\n",
       "      <td>6826</td>\n",
       "      <td>i read everything i could get my hands on.</td>\n",
       "      <td>0</td>\n",
       "      <td>0</td>\n",
       "      <td>1</td>\n",
       "      <td>0</td>\n",
       "      <td>0</td>\n",
       "      <td>['joy']</td>\n",
       "    </tr>\n",
       "  </tbody>\n",
       "</table>\n",
       "<p>6827 rows × 8 columns</p>\n",
       "</div>"
      ],
      "text/plain": [
       "        id                                               text  anger  fear  \\\n",
       "0        0  the dentist that did the work apparently did a...      1     0   \n",
       "1        1  i'm gonna absolutely ~~suck~~ be terrible duri...      0     1   \n",
       "2        2  bridge: so leave me drowning calling houston, ...      0     1   \n",
       "3        3  after that mess i went to see my now ex-girlfr...      1     1   \n",
       "4        4  as he stumbled i ran off, afraid it might some...      0     1   \n",
       "...    ...                                                ...    ...   ...   \n",
       "6822  6822  there is not a cloud in the sky and the sun is...      0     0   \n",
       "6823  6823                             &gt; the grave stomper      0     0   \n",
       "6824  6824                   my ear was still freaking stuck.      1     1   \n",
       "6825  6825  i felt like there was an electric current flow...      0     1   \n",
       "6826  6826         i read everything i could get my hands on.      0     0   \n",
       "\n",
       "      joy  sadness  surprise                    emotions  \n",
       "0       0        1         0         ['anger' 'sadness']  \n",
       "1       0        1         0          ['fear' 'sadness']  \n",
       "2       0        1         0          ['fear' 'sadness']  \n",
       "3       0        1         0  ['anger' 'fear' 'sadness']  \n",
       "4       0        0         0                    ['fear']  \n",
       "...   ...      ...       ...                         ...  \n",
       "6822    1        0         0                     ['joy']  \n",
       "6823    0        0         1                ['surprise']  \n",
       "6824    0        0         0            ['anger' 'fear']  \n",
       "6825    0        1         0          ['fear' 'sadness']  \n",
       "6826    1        0         0                     ['joy']  \n",
       "\n",
       "[6827 rows x 8 columns]"
      ]
     },
     "execution_count": 3,
     "metadata": {},
     "output_type": "execute_result"
    }
   ],
   "source": [
    "df = pd.read_csv('/kaggle/input/2025-sep-dl-gen-ai-project/train.csv')\n",
    "df\n"
   ]
  },
  {
   "cell_type": "code",
   "execution_count": 4,
   "id": "6262b3cd",
   "metadata": {
    "execution": {
     "iopub.execute_input": "2025-10-29T04:50:03.095131Z",
     "iopub.status.busy": "2025-10-29T04:50:03.094733Z",
     "iopub.status.idle": "2025-10-29T04:50:03.108921Z",
     "shell.execute_reply": "2025-10-29T04:50:03.107757Z"
    },
    "papermill": {
     "duration": 0.020012,
     "end_time": "2025-10-29T04:50:03.110692",
     "exception": false,
     "start_time": "2025-10-29T04:50:03.090680",
     "status": "completed"
    },
    "tags": []
   },
   "outputs": [],
   "source": [
    "X=df.drop(['emotions', 'anger', 'fear', 'joy', 'sadness', 'surprise'],axis=1)\n",
    "y=df[['anger', 'fear', 'joy', 'sadness', 'surprise']]"
   ]
  },
  {
   "cell_type": "code",
   "execution_count": 5,
   "id": "79aab766",
   "metadata": {
    "execution": {
     "iopub.execute_input": "2025-10-29T04:50:03.117707Z",
     "iopub.status.busy": "2025-10-29T04:50:03.117374Z",
     "iopub.status.idle": "2025-10-29T04:50:03.123408Z",
     "shell.execute_reply": "2025-10-29T04:50:03.122125Z"
    },
    "papermill": {
     "duration": 0.011652,
     "end_time": "2025-10-29T04:50:03.125173",
     "exception": false,
     "start_time": "2025-10-29T04:50:03.113521",
     "status": "completed"
    },
    "tags": []
   },
   "outputs": [
    {
     "name": "stdout",
     "output_type": "stream",
     "text": [
      "(6827, 2)\n",
      "(6827, 5)\n"
     ]
    }
   ],
   "source": [
    "print(X.shape)\n",
    "print(y.shape)\n"
   ]
  },
  {
   "cell_type": "code",
   "execution_count": 6,
   "id": "b1b4d87a",
   "metadata": {
    "execution": {
     "iopub.execute_input": "2025-10-29T04:50:03.132581Z",
     "iopub.status.busy": "2025-10-29T04:50:03.132277Z",
     "iopub.status.idle": "2025-10-29T04:50:03.142237Z",
     "shell.execute_reply": "2025-10-29T04:50:03.140955Z"
    },
    "papermill": {
     "duration": 0.016193,
     "end_time": "2025-10-29T04:50:03.144284",
     "exception": false,
     "start_time": "2025-10-29T04:50:03.128091",
     "status": "completed"
    },
    "tags": []
   },
   "outputs": [
    {
     "name": "stdout",
     "output_type": "stream",
     "text": [
      "id      0\n",
      "text    0\n",
      "dtype: int64\n",
      "--------------\n",
      "anger       0\n",
      "fear        0\n",
      "joy         0\n",
      "sadness     0\n",
      "surprise    0\n",
      "dtype: int64\n"
     ]
    }
   ],
   "source": [
    "print(X.isnull().sum())\n",
    "print('--------------')\n",
    "print(y.isnull().sum())"
   ]
  },
  {
   "cell_type": "code",
   "execution_count": 7,
   "id": "867a4ace",
   "metadata": {
    "execution": {
     "iopub.execute_input": "2025-10-29T04:50:03.152320Z",
     "iopub.status.busy": "2025-10-29T04:50:03.152009Z",
     "iopub.status.idle": "2025-10-29T04:50:03.159039Z",
     "shell.execute_reply": "2025-10-29T04:50:03.157848Z"
    },
    "papermill": {
     "duration": 0.012883,
     "end_time": "2025-10-29T04:50:03.160724",
     "exception": false,
     "start_time": "2025-10-29T04:50:03.147841",
     "status": "completed"
    },
    "tags": []
   },
   "outputs": [
    {
     "name": "stdout",
     "output_type": "stream",
     "text": [
      "id       int64\n",
      "text    object\n",
      "dtype: object\n",
      "------------------\n",
      "anger       int64\n",
      "fear        int64\n",
      "joy         int64\n",
      "sadness     int64\n",
      "surprise    int64\n",
      "dtype: object\n"
     ]
    }
   ],
   "source": [
    "print(X.dtypes)\n",
    "print('------------------')\n",
    "print(y.dtypes)"
   ]
  },
  {
   "cell_type": "code",
   "execution_count": null,
   "id": "70c2a29e",
   "metadata": {
    "papermill": {
     "duration": 0.002462,
     "end_time": "2025-10-29T04:50:03.166159",
     "exception": false,
     "start_time": "2025-10-29T04:50:03.163697",
     "status": "completed"
    },
    "tags": []
   },
   "outputs": [],
   "source": []
  }
 ],
 "metadata": {
  "kaggle": {
   "accelerator": "none",
   "dataSources": [
    {
     "databundleVersionId": 13800781,
     "sourceId": 115439,
     "sourceType": "competition"
    }
   ],
   "dockerImageVersionId": 31153,
   "isGpuEnabled": false,
   "isInternetEnabled": true,
   "language": "python",
   "sourceType": "notebook"
  },
  "kernelspec": {
   "display_name": "Python 3",
   "language": "python",
   "name": "python3"
  },
  "language_info": {
   "codemirror_mode": {
    "name": "ipython",
    "version": 3
   },
   "file_extension": ".py",
   "mimetype": "text/x-python",
   "name": "python",
   "nbconvert_exporter": "python",
   "pygments_lexer": "ipython3",
   "version": "3.11.13"
  },
  "papermill": {
   "default_parameters": {},
   "duration": 8.131638,
   "end_time": "2025-10-29T04:50:03.689969",
   "environment_variables": {},
   "exception": null,
   "input_path": "__notebook__.ipynb",
   "output_path": "__notebook__.ipynb",
   "parameters": {},
   "start_time": "2025-10-29T04:49:55.558331",
   "version": "2.6.0"
  }
 },
 "nbformat": 4,
 "nbformat_minor": 5
}
